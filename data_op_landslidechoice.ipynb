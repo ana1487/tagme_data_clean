{
 "cells": [
  {
   "cell_type": "code",
   "execution_count": 18,
   "metadata": {},
   "outputs": [],
   "source": [
    "import pandas as pd\n",
    "import json\n",
    "import os"
   ]
  },
  {
   "cell_type": "code",
   "execution_count": 19,
   "metadata": {},
   "outputs": [],
   "source": [
    "input_file =\"C:\\\\Users\\\\anura\\\\Desktop\\\\YIL_Data_related\\\\py_data_conv\\\\.venv\\\\Scripts\\\\main_files\\\\landslide_choices.json\"\n",
    "output_file = \"C:\\\\Users\\\\anura\\\\Desktop\\\\YIL_Data_related\\\\py_data_conv\\\\.venv\\\\output\\\\landslide_choice_csv.csv\"\n",
    "output_directory = \"C:\\\\Users\\\\anura\\\\Desktop\\\\YIL_Data_related\\\\py_data_conv\\\\.venv\\\\output\""
   ]
  },
  {
   "cell_type": "code",
   "execution_count": 20,
   "metadata": {},
   "outputs": [
    {
     "name": "stdout",
     "output_type": "stream",
     "text": [
      "All data has been exported to 'C:\\Users\\anura\\Desktop\\YIL_Data_related\\py_data_conv\\.venv\\output\\landslide_choice_csv.csv'\n"
     ]
    }
   ],
   "source": [
    "# 1. Load the JSON file\n",
    "with open(input_file, 'r') as file:\n",
    "    json_data = json.load(file)\n",
    "\n",
    "# Extract the nested 'data' dictionary\n",
    "nested_data = json_data['data']\n",
    "\n",
    "# Create the output directory if it doesn't exist\n",
    "os.makedirs(output_directory, exist_ok=True)\n",
    "\n",
    "# Create a list to store all DataFrames\n",
    "all_dataframes = []\n",
    "\n",
    "# Iterate through each key-value pair in the nested data\n",
    "for key, value in nested_data.items():\n",
    "    # Convert the list of dictionaries to a DataFrame\n",
    "    df = pd.DataFrame(value)\n",
    "    # Add a column to identify the source of this data\n",
    "    df['source'] = key\n",
    "    # Append the DataFrame to the list\n",
    "    all_dataframes.append(df)\n",
    "\n",
    "# Combine all DataFrames into a single DataFrame\n",
    "combined_df = pd.concat(all_dataframes, ignore_index=True)\n",
    "\n",
    "# Save the combined DataFrame to a single CSV file\n",
    "combined_df.to_csv(output_file, index=False)\n",
    "\n",
    "print(f\"All data has been exported to '{output_file}'\")"
   ]
  },
  {
   "cell_type": "code",
   "execution_count": null,
   "metadata": {},
   "outputs": [],
   "source": []
  }
 ],
 "metadata": {
  "kernelspec": {
   "display_name": "Python 3",
   "language": "python",
   "name": "python3"
  },
  "language_info": {
   "codemirror_mode": {
    "name": "ipython",
    "version": 3
   },
   "file_extension": ".py",
   "mimetype": "text/x-python",
   "name": "python",
   "nbconvert_exporter": "python",
   "pygments_lexer": "ipython3",
   "version": "3.12.4"
  }
 },
 "nbformat": 4,
 "nbformat_minor": 2
}
