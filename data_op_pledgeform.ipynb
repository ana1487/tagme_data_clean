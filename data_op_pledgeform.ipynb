{
 "cells": [
  {
   "cell_type": "code",
   "execution_count": 2,
   "metadata": {},
   "outputs": [],
   "source": [
    "import pandas as pd\n",
    "import os\n",
    "import  json"
   ]
  },
  {
   "cell_type": "code",
   "execution_count": 3,
   "metadata": {},
   "outputs": [],
   "source": [
    "input_file =\"C:\\\\Users\\\\anura\\\\Desktop\\\\YIL_Data_related\\\\py_data_conv\\\\.venv\\\\Scripts\\\\main_files\\\\pledge_form.json\"\n",
    "output_file = \"C:\\\\Users\\\\anura\\\\Desktop\\\\YIL_Data_related\\\\py_data_conv\\\\.venv\\\\output\\\\pledgeform_csv.csv\""
   ]
  },
  {
   "cell_type": "code",
   "execution_count": 4,
   "metadata": {},
   "outputs": [],
   "source": [
    "# Check if the input file exists\n",
    "if not os.path.exists(input_file):\n",
    "    raise FileNotFoundError(f\"The input file {input_file} does not exist.\")\n"
   ]
  },
  {
   "cell_type": "code",
   "execution_count": 5,
   "metadata": {},
   "outputs": [
    {
     "name": "stdout",
     "output_type": "stream",
     "text": [
      "CSV file 'pledgeform.csv' created successfully\n"
     ]
    }
   ],
   "source": [
    "#loading the json data from the file\n",
    "with open('pledge_form.json','r', encoding='utf-8') as file:\n",
    "    pledgeform_data = json.load(file)\n",
    "\n",
    "#extract the results part of the JSON data\n",
    "results = pledgeform_data['results']\n",
    "#ignore the images they have\n",
    "#Note: they typed pladge instead of pledge for a field\n",
    "fields_to_keep =['id', 'full_name', 'gender', 'email','phone', 'ethnicity', 'province', 'district', 'municipality', 'pladges', 'created_on', 'updated_on']\n",
    "#creating the dataframe from the JSON data\n",
    "pledgeform_df = pd.DataFrame(results, columns=fields_to_keep)\n",
    "\n",
    "#saving the DataFrame to a csv file with utf-8 encoding\n",
    "pledgeform_df.to_csv(output_file, index=False, encoding='utf-8-sig')\n",
    "print(\"CSV file 'pledgeform.csv' created successfully\")\n",
    "\n"
   ]
  }
 ],
 "metadata": {
  "kernelspec": {
   "display_name": "Python 3",
   "language": "python",
   "name": "python3"
  },
  "language_info": {
   "codemirror_mode": {
    "name": "ipython",
    "version": 3
   },
   "file_extension": ".py",
   "mimetype": "text/x-python",
   "name": "python",
   "nbconvert_exporter": "python",
   "pygments_lexer": "ipython3",
   "version": "3.12.4"
  }
 },
 "nbformat": 4,
 "nbformat_minor": 2
}
