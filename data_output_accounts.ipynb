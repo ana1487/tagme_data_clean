{
 "cells": [
  {
   "cell_type": "code",
   "execution_count": 1,
   "metadata": {},
   "outputs": [],
   "source": [
    "import pandas as pd\n",
    "import os\n",
    "import  json"
   ]
  },
  {
   "cell_type": "code",
   "execution_count": 2,
   "metadata": {},
   "outputs": [],
   "source": [
    "input_file =\"C:\\\\Users\\\\anura\\\\Desktop\\\\YIL_Data_related\\\\py_data_conv\\\\.venv\\\\Scripts\\\\main_files\\\\accounts.json\"\n",
    "output_file = \"C:\\\\Users\\\\anura\\\\Desktop\\\\YIL_Data_related\\\\py_data_conv\\\\.venv\\\\output\\\\accounts_csv.csv\""
   ]
  },
  {
   "cell_type": "code",
   "execution_count": 4,
   "metadata": {},
   "outputs": [],
   "source": [
    "# Check if the input file exists\n",
    "if not os.path.exists(input_file):\n",
    "    raise FileNotFoundError(f\"The input file {input_file} does not exist.\")\n"
   ]
  },
  {
   "cell_type": "code",
   "execution_count": 6,
   "metadata": {},
   "outputs": [
    {
     "name": "stdout",
     "output_type": "stream",
     "text": [
      "CSV file 'accounts.csv' created successfully\n"
     ]
    }
   ],
   "source": [
    "#loading the json data from the file\n",
    "with open('accounts.json','r', encoding='utf-8') as file:\n",
    "    accounts_data = json.load(file)\n",
    "\n",
    "#extract the results part of the JSON data\n",
    "results = accounts_data['results']\n",
    "fields_to_keep =['id', 'first_name', 'last_name', 'district','total_lifetime_coins', 'total_data_tagged', 'total_clean_ups', 'time_spent_on_collection']\n",
    "#creating the dataframe from the JSON data\n",
    "accounts_df = pd.DataFrame(results, columns=fields_to_keep)\n",
    "\n",
    "#saving the DataFrame to a csv file with utf-8 encoding\n",
    "accounts_df.to_csv(output_file, index=False, encoding='utf-8-sig')\n",
    "print(\"CSV file 'accounts.csv' created successfully\")\n",
    "\n"
   ]
  }
 ],
 "metadata": {
  "kernelspec": {
   "display_name": "Python 3",
   "language": "python",
   "name": "python3"
  },
  "language_info": {
   "codemirror_mode": {
    "name": "ipython",
    "version": 3
   },
   "file_extension": ".py",
   "mimetype": "text/x-python",
   "name": "python",
   "nbconvert_exporter": "python",
   "pygments_lexer": "ipython3",
   "version": "3.12.4"
  }
 },
 "nbformat": 4,
 "nbformat_minor": 2
}
