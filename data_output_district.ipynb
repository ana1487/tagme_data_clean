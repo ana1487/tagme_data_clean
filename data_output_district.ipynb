{
 "cells": [
  {
   "cell_type": "code",
   "execution_count": 10,
   "metadata": {},
   "outputs": [],
   "source": [
    "import pandas as pd\n",
    "import os\n",
    "import  json\n",
    "import csv"
   ]
  },
  {
   "cell_type": "code",
   "execution_count": 11,
   "metadata": {},
   "outputs": [],
   "source": [
    "input_file =\"C:\\\\Users\\\\anura\\\\Desktop\\\\YIL_Data_related\\\\py_data_conv\\\\.venv\\\\Scripts\\\\main_files\\\\district.json\"\n",
    "output_file = \"C:\\\\Users\\\\anura\\\\Desktop\\\\YIL_Data_related\\\\py_data_conv\\\\.venv\\\\output\\\\district_csv.csv\""
   ]
  },
  {
   "cell_type": "code",
   "execution_count": 12,
   "metadata": {},
   "outputs": [],
   "source": [
    "# Check if the input file exists\n",
    "if not os.path.exists(input_file):\n",
    "    raise FileNotFoundError(f\"The input file {input_file} does not exist.\")\n"
   ]
  },
  {
   "cell_type": "code",
   "execution_count": 13,
   "metadata": {},
   "outputs": [
    {
     "name": "stdout",
     "output_type": "stream",
     "text": [
      "CSV file 'district.csv' created successfully\n"
     ]
    }
   ],
   "source": [
    "#loading the json data from the file\n",
    "with open('district.json','r', encoding='utf-8') as file:\n",
    "    district_data = json.load(file)\n",
    "\n",
    "#prepare CSV file\n",
    "with open(output_file, 'w', newline='') as csv_file:\n",
    "    csv_writer = csv.writer(csv_file)\n",
    "\n",
    "    #writing the headers\n",
    "    header= ['id', 'title','code', 'order', 'province', 'bbox_min_x', 'bbox_min_y', 'bbox_max_x', 'bbox_max_y', 'centroid_x', 'centroid_y']\n",
    "    csv_writer.writerow(header)\n",
    "\n",
    "    # writing data in rows\n",
    "    for district in district_data['results']:\n",
    "        row=[\n",
    "            district['id'],\n",
    "            district['title'],\n",
    "            district['code'],\n",
    "            district['order'],\n",
    "            district['province'],\n",
    "            district['bbox'][0],\n",
    "            district['bbox'][1],\n",
    "            district['bbox'][2],\n",
    "            district['bbox'][3],\n",
    "            district['centroid']['coordinates'][0], #centroid_x\n",
    "            district['centroid']['coordinates'][1], #centroid_y\n",
    "\n",
    "        ] \n",
    "        csv_writer.writerow(row)\n",
    "    # #extract the results part of the JSON data\n",
    "    # results = district_data['results']\n",
    "\n",
    "    # #creating the dataframe from the JSON data\n",
    "    # district_df = pd.DataFrame(results)\n",
    "\n",
    "    # #saving the DataFrame to a csv file with utf-8 encoding\n",
    "    # district_df.to_csv(output_file, index=False, encoding='utf-8-sig')\n",
    "    print(\"CSV file 'district.csv' created successfully\")"
   ]
  },
  {
   "cell_type": "code",
   "execution_count": null,
   "metadata": {},
   "outputs": [],
   "source": []
  }
 ],
 "metadata": {
  "kernelspec": {
   "display_name": "Python 3",
   "language": "python",
   "name": "python3"
  },
  "language_info": {
   "codemirror_mode": {
    "name": "ipython",
    "version": 3
   },
   "file_extension": ".py",
   "mimetype": "text/x-python",
   "name": "python",
   "nbconvert_exporter": "python",
   "pygments_lexer": "ipython3",
   "version": "3.12.4"
  }
 },
 "nbformat": 4,
 "nbformat_minor": 2
}
