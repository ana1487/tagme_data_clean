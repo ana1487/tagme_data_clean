{
 "cells": [
  {
   "cell_type": "code",
   "execution_count": 2,
   "metadata": {},
   "outputs": [],
   "source": [
    "import pandas as pd"
   ]
  },
  {
   "cell_type": "code",
   "execution_count": 3,
   "metadata": {},
   "outputs": [],
   "source": [
    "import json\n"
   ]
  },
  {
   "cell_type": "code",
   "execution_count": 4,
   "metadata": {},
   "outputs": [],
   "source": [
    "import os"
   ]
  },
  {
   "cell_type": "code",
   "execution_count": 7,
   "metadata": {},
   "outputs": [],
   "source": [
    "input_file =\"C:\\\\Users\\\\anura\\\\Desktop\\\\YIL_Data_related\\\\py_data_conv\\\\.venv\\\\Scripts\\\\main_files\\\\pledge.json\"\n",
    "output_file = \"C:\\\\Users\\\\anura\\\\Desktop\\\\YIL_Data_related\\\\py_data_conv\\\\.venv\\\\output\\\\pledge_csv.csv\""
   ]
  },
  {
   "cell_type": "code",
   "execution_count": 8,
   "metadata": {},
   "outputs": [],
   "source": [
    "# Check if the input file exists\n",
    "if not os.path.exists(input_file):\n",
    "    raise FileNotFoundError(f\"The input file {input_file} does not exist.\")\n"
   ]
  },
  {
   "cell_type": "code",
   "execution_count": 10,
   "metadata": {},
   "outputs": [
    {
     "name": "stdout",
     "output_type": "stream",
     "text": [
      "CSV file 'pledge.csv' created successfully\n"
     ]
    }
   ],
   "source": [
    "#loading the json data from the file\n",
    "with open('pledge.json','r', encoding='utf-8') as file:\n",
    "    pledge_data = json.load(file)\n",
    "\n",
    "#extract the results part of the JSON data\n",
    "results = pledge_data['results']\n",
    "\n",
    "#creating the dataframe from the JSON data\n",
    "pledge_df = pd.DataFrame(results)\n",
    "\n",
    "#saving the DataFrame to a csv file with utf-8 encoding\n",
    "pledge_df.to_csv(output_file, index=False, encoding='utf-8-sig')\n",
    "print(\"CSV file 'pledge.csv' created successfully\")\n",
    "\n"
   ]
  }
 ],
 "metadata": {
  "kernelspec": {
   "display_name": "Python 3",
   "language": "python",
   "name": "python3"
  },
  "language_info": {
   "codemirror_mode": {
    "name": "ipython",
    "version": 3
   },
   "file_extension": ".py",
   "mimetype": "text/x-python",
   "name": "python",
   "nbconvert_exporter": "python",
   "pygments_lexer": "ipython3",
   "version": "3.12.4"
  }
 },
 "nbformat": 4,
 "nbformat_minor": 2
}
