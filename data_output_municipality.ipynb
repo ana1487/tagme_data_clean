{
 "cells": [
  {
   "cell_type": "code",
   "execution_count": 2,
   "metadata": {},
   "outputs": [],
   "source": [
    "import pandas as pd\n",
    "import os\n",
    "import  json\n",
    "import csv"
   ]
  },
  {
   "cell_type": "code",
   "execution_count": 3,
   "metadata": {},
   "outputs": [],
   "source": [
    "input_file =\"C:\\\\Users\\\\anura\\\\Desktop\\\\YIL_Data_related\\\\py_data_conv\\\\.venv\\\\Scripts\\\\main_files\\\\municipalities.json\"\n",
    "output_file = \"C:\\\\Users\\\\anura\\\\Desktop\\\\YIL_Data_related\\\\py_data_conv\\\\.venv\\\\output\\\\municipality_csv.csv\""
   ]
  },
  {
   "cell_type": "code",
   "execution_count": 4,
   "metadata": {},
   "outputs": [],
   "source": [
    "# Check if the input file exists\n",
    "if not os.path.exists(input_file):\n",
    "    raise FileNotFoundError(f\"The input file {input_file} does not exist.\")\n"
   ]
  },
  {
   "cell_type": "code",
   "execution_count": 8,
   "metadata": {},
   "outputs": [
    {
     "name": "stdout",
     "output_type": "stream",
     "text": [
      "CSV file 'municipality.csv' created successfully\n"
     ]
    }
   ],
   "source": [
    "#loading the json data from the file\n",
    "with open('municipalities.json','r', encoding='utf-8') as file:\n",
    "    municipality_data = json.load(file)\n",
    "\n",
    "#prepare CSV file\n",
    "with open(output_file, 'w', newline='') as csv_file:\n",
    "    csv_writer = csv.writer(csv_file)\n",
    "\n",
    "    #writing the headers\n",
    "    header= ['id', 'title','type','code', 'order','bbox_min_x', 'bbox_min_y', 'bbox_max_x', 'bbox_max_y', 'centroid_x', 'centroid_y']\n",
    "    csv_writer.writerow(header)\n",
    "\n",
    "    # writing data in rows\n",
    "    for municipality in municipality_data['results']:\n",
    "        row=[\n",
    "            municipality['id'],\n",
    "            municipality['title'],\n",
    "            municipality['code'],\n",
    "            municipality['order'],\n",
    "            # municipality['municipality'],\n",
    "            municipality['type'],\n",
    "            municipality['bbox'][0],\n",
    "            municipality['bbox'][1],\n",
    "            municipality['bbox'][2],\n",
    "            municipality['bbox'][3],\n",
    "            municipality['centroid']['coordinates'][0], #centroid_x\n",
    "            municipality['centroid']['coordinates'][1], #centroid_y\n",
    "\n",
    "        ] \n",
    "        csv_writer.writerow(row)\n",
    "    # #extract the results part of the JSON data\n",
    "    # results = district_data['results']\n",
    "\n",
    "    # #creating the dataframe from the JSON data\n",
    "    # district_df = pd.DataFrame(results)\n",
    "\n",
    "    # #saving the DataFrame to a csv file with utf-8 encoding\n",
    "    # district_df.to_csv(output_file, index=False, encoding='utf-8-sig')\n",
    "    print(\"CSV file 'municipality.csv' created successfully\")"
   ]
  },
  {
   "cell_type": "code",
   "execution_count": null,
   "metadata": {},
   "outputs": [],
   "source": []
  }
 ],
 "metadata": {
  "kernelspec": {
   "display_name": "Python 3",
   "language": "python",
   "name": "python3"
  },
  "language_info": {
   "codemirror_mode": {
    "name": "ipython",
    "version": 3
   },
   "file_extension": ".py",
   "mimetype": "text/x-python",
   "name": "python",
   "nbconvert_exporter": "python",
   "pygments_lexer": "ipython3",
   "version": "3.12.4"
  }
 },
 "nbformat": 4,
 "nbformat_minor": 2
}
